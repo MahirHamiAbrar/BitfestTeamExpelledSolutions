{
 "cells": [
  {
   "cell_type": "markdown",
   "metadata": {},
   "source": [
    "# Task #1\n",
    "### Load Dataset\n",
    "\n",
    "Dataset link: https://huggingface.co/datasets/SKNahin/bengali-transliteration-data"
   ]
  },
  {
   "cell_type": "code",
   "execution_count": 10,
   "metadata": {},
   "outputs": [
    {
     "name": "stdout",
     "output_type": "stream",
     "text": [
      "Dataset({\n",
      "    features: ['bn', 'rm'],\n",
      "    num_rows: 5006\n",
      "})\n"
     ]
    }
   ],
   "source": [
    "from datasets import load_dataset\n",
    "\n",
    "# load the dataset\n",
    "ds = load_dataset(\"SKNahin/bengali-transliteration-data\", split='train')\n",
    "print(ds)"
   ]
  },
  {
   "cell_type": "markdown",
   "metadata": {},
   "source": [
    "#### Preprocessing\n",
    "\n",
    "eg: Remove too long or too short sentences"
   ]
  },
  {
   "cell_type": "code",
   "execution_count": null,
   "metadata": {},
   "outputs": [
    {
     "name": "stdout",
     "output_type": "stream",
     "text": [
      "o gula Torrent site e paben\n",
      "excluded_idx = [136, 385, 532, 540]\n",
      "dataset = Dataset({\n",
      "    features: ['bn', 'rm'],\n",
      "    num_rows: 5002\n",
      "})\n"
     ]
    }
   ],
   "source": [
    "# Get Minimum & Maximum lengths of the sequences\n",
    "# min_len, max_len = 0, 0\n",
    "# for data in ds['rm']:\n",
    "#     max_len = max(max_len, len(data))\n",
    "#     min_len = min(min_len, len(data))\n",
    "# print(min_len, max_len)\n",
    "\n",
    "min_len, max_len = 1, 200\n",
    "excluded_idx = []\n",
    "\n",
    "for i in range(0, len(ds['rm'])):\n",
    "    sz = len(ds['rm'][i])\n",
    "    if sz < min_len or sz > max_len:\n",
    "        excluded_idx.append(i)\n",
    "\n",
    "print(f\"{excluded_idx = }\")\n",
    "\n",
    "dataset = ds.select((\n",
    "    i for i in range(0, len(ds['rm']))\n",
    "    if i not in excluded_idx\n",
    "))\n",
    "\n",
    "print(f\"{dataset = }\")"
   ]
  },
  {
   "cell_type": "markdown",
   "metadata": {},
   "source": [
    "### Do Train Test Split"
   ]
  },
  {
   "cell_type": "code",
   "execution_count": 26,
   "metadata": {},
   "outputs": [
    {
     "name": "stdout",
     "output_type": "stream",
     "text": [
      "train_data = Dataset({\n",
      "    features: ['bn', 'rm'],\n",
      "    num_rows: 4001\n",
      "})\n",
      "\n",
      "test_data = Dataset({\n",
      "    features: ['bn', 'rm'],\n",
      "    num_rows: 1001\n",
      "})\n"
     ]
    }
   ],
   "source": [
    "# split the dataset into train and test\n",
    "split_data = dataset.train_test_split(test_size=0.2, seed=42)\n",
    "train_data = split_data['train']\n",
    "test_data = split_data['test']\n",
    "\n",
    "# print train-test data metadata\n",
    "print(f\"{train_data = }\\n\\n{test_data = }\")"
   ]
  }
 ],
 "metadata": {
  "kernelspec": {
   "display_name": "Python 3",
   "language": "python",
   "name": "python3"
  },
  "language_info": {
   "codemirror_mode": {
    "name": "ipython",
    "version": 3
   },
   "file_extension": ".py",
   "mimetype": "text/x-python",
   "name": "python",
   "nbconvert_exporter": "python",
   "pygments_lexer": "ipython3",
   "version": "3.12.7"
  }
 },
 "nbformat": 4,
 "nbformat_minor": 2
}
